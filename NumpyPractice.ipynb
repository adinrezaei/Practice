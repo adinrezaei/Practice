{
  "nbformat": 4,
  "nbformat_minor": 0,
  "metadata": {
    "colab": {
      "name": "Untitled1.ipynb",
      "provenance": []
    },
    "kernelspec": {
      "name": "python3",
      "display_name": "Python 3"
    },
    "language_info": {
      "name": "python"
    }
  },
  "cells": [
    {
      "cell_type": "code",
      "execution_count": null,
      "metadata": {
        "id": "VWx4Qo2ffLC7"
      },
      "outputs": [],
      "source": [
        "# How to create:\n",
        "# 1. Vector by numpy\n",
        "# 2. Matrix by numpy\n",
        "# 3. Shape of a matrix by numpy (dimension)\n",
        "# 3. Matrix of zeroes with numpy\n",
        "# 4. Matrix transpose by numpy\n",
        "# 5. Matrix multiplication by numpy\n",
        "# 6. Matrix psuedo inverse or inverse by numpy\n",
        "# 7. Norm of matrix by numpy"
      ]
    },
    {
      "cell_type": "code",
      "source": [
        "import numpy as np\n",
        "#creating a 1-D list (horizontal)\n",
        "list1 = [1, 2, 3]\n",
        "#creating a 1-D list (vertical)\n",
        "list2 = [[10],\n",
        "          [20],\n",
        "          [30]]\n",
        "#creating a vector1\n",
        "#vector as row\n",
        "vector1 = np.array(list1)\n",
        "#creating a vector as vector2\n",
        "#vector as column\n",
        "vector2 = np.array(list2)\n",
        "#showing horizontal vector\n",
        "print(\"horizontal vector\")\n",
        "print(vector1)\n",
        "#showing vertical vector\n",
        "print(\"vertical vector\")\n",
        "print(vector2)"
      ],
      "metadata": {
        "colab": {
          "base_uri": "https://localhost:8080/"
        },
        "id": "Ep-UhJtugQcl",
        "outputId": "7eec6746-6028-40c1-979d-595718c3dac9"
      },
      "execution_count": null,
      "outputs": [
        {
          "output_type": "stream",
          "name": "stdout",
          "text": [
            "horizontal vector\n",
            "[1 2 3]\n",
            "vertical vector\n",
            "[[10]\n",
            " [20]\n",
            " [30]]\n"
          ]
        }
      ]
    },
    {
      "cell_type": "code",
      "source": [
        "#creat a matrix\n",
        "a = np.matrix([[1,2],[3,4],[5,6],[7,8]])\n",
        "print(a.shape)"
      ],
      "metadata": {
        "colab": {
          "base_uri": "https://localhost:8080/"
        },
        "id": "OrEgBZtWnW8h",
        "outputId": "d0fb3346-e194-44d7-81fc-c50f79c20d07"
      },
      "execution_count": null,
      "outputs": [
        {
          "output_type": "stream",
          "name": "stdout",
          "text": [
            "(4, 2)\n"
          ]
        }
      ]
    },
    {
      "cell_type": "code",
      "source": [
        "a=np.matrix([[7,8,9],[10,11,12],[1,2,3]])\n",
        "print(a.shape)"
      ],
      "metadata": {
        "colab": {
          "base_uri": "https://localhost:8080/"
        },
        "id": "90Aqf1jInXOH",
        "outputId": "62712ced-6f84-4185-c6ff-63f9b28e7325"
      },
      "execution_count": null,
      "outputs": [
        {
          "output_type": "stream",
          "name": "stdout",
          "text": [
            "(3, 3)\n"
          ]
        }
      ]
    },
    {
      "cell_type": "code",
      "source": [
        "np.zeros((6,2))"
      ],
      "metadata": {
        "colab": {
          "base_uri": "https://localhost:8080/"
        },
        "id": "92HJKYronXUN",
        "outputId": "41d6cb82-f08a-46c6-9541-47b65f99649d"
      },
      "execution_count": null,
      "outputs": [
        {
          "output_type": "execute_result",
          "data": {
            "text/plain": [
              "array([[0., 0.],\n",
              "       [0., 0.],\n",
              "       [0., 0.],\n",
              "       [0., 0.],\n",
              "       [0., 0.],\n",
              "       [0., 0.]])"
            ]
          },
          "metadata": {},
          "execution_count": 29
        }
      ]
    },
    {
      "cell_type": "code",
      "source": [
        "#matrix transpose\n",
        "a=np.array([[1,2],[3,4]])\n",
        "np.transpose(a)\n",
        "\n",
        "b=np.array([[4,5],[7,8],[9,10]])\n",
        "np.transpose(b)"
      ],
      "metadata": {
        "colab": {
          "base_uri": "https://localhost:8080/"
        },
        "id": "B5vukySTnXZR",
        "outputId": "6b6047e8-9cbf-410d-d1a8-6e5cc63fb7c5"
      },
      "execution_count": null,
      "outputs": [
        {
          "output_type": "execute_result",
          "data": {
            "text/plain": [
              "array([[ 4,  7,  9],\n",
              "       [ 5,  8, 10]])"
            ]
          },
          "metadata": {},
          "execution_count": 33
        }
      ]
    },
    {
      "cell_type": "code",
      "source": [
        "#matrix multiplication\n",
        "m1=np.array([[1,2],[3,4],[5,6]])\n",
        "m2=np.array([[7,8],[9,10]])\n",
        "m3=np.dot(m1,m2)\n",
        "print(m3)"
      ],
      "metadata": {
        "colab": {
          "base_uri": "https://localhost:8080/"
        },
        "id": "-CeDFgRG3kqe",
        "outputId": "fae51328-800d-4667-af2b-1bb164e31b61"
      },
      "execution_count": null,
      "outputs": [
        {
          "output_type": "stream",
          "name": "stdout",
          "text": [
            "[[ 25  28]\n",
            " [ 57  64]\n",
            " [ 89 100]]\n"
          ]
        }
      ]
    },
    {
      "cell_type": "code",
      "source": [
        "m1=([[1,2,3],[4,5,6]])\n",
        "m2=([[1,2],[3,4],[5,6]])\n",
        "m3=np.dot(m1,m2)\n",
        "print(m3)"
      ],
      "metadata": {
        "colab": {
          "base_uri": "https://localhost:8080/"
        },
        "id": "pkH3mZVs6-lH",
        "outputId": "c2ec1dbd-875a-4676-c596-8b490fb6972f"
      },
      "execution_count": null,
      "outputs": [
        {
          "output_type": "stream",
          "name": "stdout",
          "text": [
            "[[22 28]\n",
            " [49 64]]\n"
          ]
        }
      ]
    },
    {
      "cell_type": "code",
      "source": [
        "m1=np.matrix([[1,2,3],[4,5,6],[7,8,9]])\n",
        "print(m1.shape)"
      ],
      "metadata": {
        "colab": {
          "base_uri": "https://localhost:8080/"
        },
        "id": "Wqt0oOJd8ZOF",
        "outputId": "8ff3e0e7-5ffb-426c-c055-b2875cf6fa9e"
      },
      "execution_count": null,
      "outputs": [
        {
          "output_type": "stream",
          "name": "stdout",
          "text": [
            "(3, 3)\n"
          ]
        }
      ]
    },
    {
      "cell_type": "code",
      "source": [
        "print(m1)\n",
        "print(m2)"
      ],
      "metadata": {
        "colab": {
          "base_uri": "https://localhost:8080/"
        },
        "id": "3Q74aJl1475J",
        "outputId": "621b6030-c6a4-45f1-f9d8-54a9745df49e"
      },
      "execution_count": null,
      "outputs": [
        {
          "output_type": "stream",
          "name": "stdout",
          "text": [
            "[[1 2]\n",
            " [3 4]\n",
            " [5 6]]\n",
            "[[ 7  8]\n",
            " [ 9 10]]\n"
          ]
        }
      ]
    },
    {
      "cell_type": "code",
      "source": [
        "#how to psedoinverse a matrix\n",
        "np.linalg.pinv(m1)\n"
      ],
      "metadata": {
        "colab": {
          "base_uri": "https://localhost:8080/"
        },
        "id": "Rd2zRFDx-aIg",
        "outputId": "19ee779a-5c05-4d06-b608-9a114959daab"
      },
      "execution_count": null,
      "outputs": [
        {
          "output_type": "execute_result",
          "data": {
            "text/plain": [
              "matrix([[-6.38888889e-01, -1.66666667e-01,  3.05555556e-01],\n",
              "        [-5.55555556e-02,  1.30136518e-16,  5.55555556e-02],\n",
              "        [ 5.27777778e-01,  1.66666667e-01, -1.94444444e-01]])"
            ]
          },
          "metadata": {},
          "execution_count": 51
        }
      ]
    },
    {
      "cell_type": "code",
      "source": [
        "#norm of matrix\n",
        "np.linalg.norm(m1)"
      ],
      "metadata": {
        "colab": {
          "base_uri": "https://localhost:8080/"
        },
        "id": "T6fDk5DC-eK7",
        "outputId": "20983276-a081-4fca-ee7b-1f35367580f5"
      },
      "execution_count": null,
      "outputs": [
        {
          "output_type": "execute_result",
          "data": {
            "text/plain": [
              "16.881943016134134"
            ]
          },
          "metadata": {},
          "execution_count": 52
        }
      ]
    },
    {
      "cell_type": "code",
      "source": [
        "import pandas as pd\n",
        "DF = pd.read_csv('/Users/aidarezaei/Desktop/Desktop/CV/CV/data.csv')\n",
        "X = DF.values"
      ],
      "metadata": {
        "id": "3BX9Te3TDPNM"
      },
      "execution_count": null,
      "outputs": []
    }
  ]
}